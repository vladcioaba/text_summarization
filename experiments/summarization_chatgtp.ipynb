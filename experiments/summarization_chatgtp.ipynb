{
 "cells": [
  {
   "cell_type": "code",
   "execution_count": null,
   "id": "302cb9fb-cc72-4163-8a01-98b27b82b19e",
   "metadata": {},
   "outputs": [],
   "source": [
    "!pip install datasets rouge_score openai datetime numpy"
   ]
  },
  {
   "cell_type": "code",
   "execution_count": 4,
   "id": "5c4c509c-bb54-415a-8dd1-70d1ca20bf60",
   "metadata": {},
   "outputs": [],
   "source": [
    "def count_text_tokens_default(text):\n",
    "    import re\n",
    "    l = re.findall(r\"[\\w]+|[’+-−.,!?:;@#\\$%\\'\\\"\\^&*_=\\\\|/<>\\[\\]\\(\\)\\n\\t]\", text)\n",
    "    return len(l), l"
   ]
  },
  {
   "cell_type": "code",
   "execution_count": 36,
   "id": "70ef51f8-c1c9-43c7-bf40-8f4a5f37b1ad",
   "metadata": {},
   "outputs": [
    {
     "name": "stderr",
     "output_type": "stream",
     "text": [
      "WARNING:datasets.builder:Reusing dataset cnn_dailymail (/home/azureuser/.cache/huggingface/datasets/cnn_dailymail/3.0.0/3.0.0/1b3c71476f6d152c31c1730e83ccb08bcf23e348233f4fcc11e182248e6bf7de)\n"
     ]
    },
    {
     "data": {
      "application/vnd.jupyter.widget-view+json": {
       "model_id": "790d1a4b6cec412eadf1a670b64e014c",
       "version_major": 2,
       "version_minor": 0
      },
      "text/plain": [
       "  0%|          | 0/3 [00:00<?, ?it/s]"
      ]
     },
     "metadata": {},
     "output_type": "display_data"
    },
    {
     "name": "stderr",
     "output_type": "stream",
     "text": [
      "WARNING:datasets.builder:Using custom data configuration default\n",
      "WARNING:datasets.builder:Reusing dataset xsum (/home/azureuser/.cache/huggingface/datasets/xsum/default/1.2.0/32c23220eadddb1149b16ed2e9430a05293768cfffbdfd151058697d4c11f934)\n"
     ]
    },
    {
     "data": {
      "application/vnd.jupyter.widget-view+json": {
       "model_id": "2b42bc79aa114c249e4f085f1369699c",
       "version_major": 2,
       "version_minor": 0
      },
      "text/plain": [
       "  0%|          | 0/3 [00:00<?, ?it/s]"
      ]
     },
     "metadata": {},
     "output_type": "display_data"
    }
   ],
   "source": [
    "from datasets import load_dataset, load_metric\n",
    "\n",
    "cnn_dataset = load_dataset('cnn_dailymail', '3.0.0')\n",
    "xsum_dataset = load_dataset(\"xsum\")\n",
    "rouge = load_metric(\"rouge\")"
   ]
  },
  {
   "cell_type": "code",
   "execution_count": 127,
   "id": "7a32093e-e5c2-4fb4-8f17-1f54a03763ba",
   "metadata": {},
   "outputs": [],
   "source": [
    "import tqdm \n",
    "import numpy as np\n",
    "import math\n",
    "\n",
    "def print_rouge_score(generated, reference):\n",
    "    rouge.add_batch(predictions=generated, references=reference)\n",
    "    results = rouge.compute()\n",
    "    l_rouge = [[0,0,0],[0,0,0],[0,0,0]]\n",
    "    l_rouge[0][0] = results['rouge1'].mid.recall\n",
    "    l_rouge[0][1] = results['rouge1'].mid.precision\n",
    "    l_rouge[0][2] = results['rouge1'].mid.fmeasure\n",
    "    l_rouge[1][0] = results['rouge2'].mid.recall\n",
    "    l_rouge[1][1] = results['rouge2'].mid.precision\n",
    "    l_rouge[1][2] = results['rouge2'].mid.fmeasure\n",
    "    l_rouge[2][0] = results['rougeL'].mid.recall\n",
    "    l_rouge[2][1] = results['rougeL'].mid.precision\n",
    "    l_rouge[2][2] = results['rougeL'].mid.fmeasure\n",
    "    \n",
    "    print('rouge-1: r:%2.2f, p:%2.2f f:%2.2f' % (np.mean(l_rouge[0][0]), np.mean(l_rouge[0][1]), np.mean(l_rouge[0][2])))\n",
    "    print('rouge-2: r:%2.2f, p:%2.2f f:%2.2f' % (np.mean(l_rouge[1][0]), np.mean(l_rouge[1][1]), np.mean(l_rouge[1][2])))\n",
    "    print('rouge-l: r:%2.2f, p:%2.2f f:%2.2f' % (np.mean(l_rouge[2][0]), np.mean(l_rouge[2][1]), np.mean(l_rouge[2][2])))\n",
    "\n",
    "import openai \n",
    "\n",
    "openai.api_key = \"\"\n",
    "openai.api_base =  \"https://imr-azure-openai.openai.azure.com/\"\n",
    "openai.api_type = 'azure'\n",
    "openai.api_version = '2022-12-01'\n",
    "deployment_id='azure-openai-text-davinci-003' \n",
    "\n",
    "def summarize_with_openai(text, max_length, extreme = False):\n",
    "    prompt = 'summarize the text above is less than ' + str(max_length) + ' words.'\n",
    "    if extreme:\n",
    "        prompt = 'extreme ' + prompt\n",
    "    response = openai.Completion.create(engine=deployment_id, prompt= text +'\\n' + prompt , max_tokens=1000)\n",
    "    return response['choices'][0]['text'].split(\"\\n\")[-1]\n",
    "\n",
    "def ask_question(text):\n",
    "    response = openai.Completion.create(engine=deployment_id, prompt=question, max_tokens=3000)\n",
    "    print(response)\n",
    "    \n",
    "def test_dataset(dataset, subset, keys, batch_num=math.inf, extreme = False):\n",
    "    from torch.utils.data import DataLoader, RandomSampler\n",
    "\n",
    "    #dslen = dataset[subset].num_rows\n",
    "    \n",
    "    test_sampler = RandomSampler(dataset[subset])\n",
    "    test_dataloader = DataLoader(dataset[subset], sampler=test_sampler, batch_size=128)\n",
    "    test_iter = iter(test_dataloader)\n",
    "    #sample_list = list(zip(sample[key[0]], sample[key[1]]))\n",
    "    batch_num = min(len(test_iter), batch_num)\n",
    "    generated = []\n",
    "    references = []\n",
    "    for i, batch in tqdm.tqdm(enumerate(test_iter), total=batch_num):\n",
    "        sample_list = list(zip(batch[keys[0]], batch[keys[1]]))\n",
    "        for doc, ref in sample_list:\n",
    "            try:\n",
    "                ref_length, _ = count_text_tokens_default(ref)\n",
    "                generated.append(summarize_with_openai(doc, ref_length, extreme))\n",
    "                references.append(ref)\n",
    "            except Exception as e:\n",
    "                print(e)\n",
    "        print(i, batch_num)\n",
    "        if ((i + 1) == batch_num):\n",
    "            break\n",
    "    \n",
    "    print_rouge_score(generated, references)\n"
   ]
  },
  {
   "cell_type": "markdown",
   "id": "9b307a4d-8ddf-45bf-9e3f-9433e3a384d6",
   "metadata": {},
   "source": [
    "# Test ask funcitons"
   ]
  },
  {
   "cell_type": "code",
   "execution_count": 27,
   "id": "184df1bf-6457-410f-a864-3a2e71a10d2e",
   "metadata": {},
   "outputs": [
    {
     "name": "stdout",
     "output_type": "stream",
     "text": [
      "{\n",
      "  \"choices\": [\n",
      "    {\n",
      "      \"finish_reason\": \"stop\",\n",
      "      \"index\": 0,\n",
      "      \"logprobs\": null,\n",
      "      \"text\": \"\\nK-folds cross-validation is a process used to evaluate a model\\u2019s performance on unseen data. It involves randomly splitting the dataset into k equal sized \\u2018folds\\u2019. Each fold is used as a testing set once and as a training set k-1 times. The average performance across all k folds is then used to judge the model\\u2019s performance. This process helps avoid overfitting or underfitting the model.\"\n",
      "    }\n",
      "  ],\n",
      "  \"created\": 1675767994,\n",
      "  \"id\": \"cmpl-6hG5yjnmkDtXydYDqVcvKzSzhF6fD\",\n",
      "  \"model\": \"text-davinci-003\",\n",
      "  \"object\": \"text_completion\",\n",
      "  \"usage\": {\n",
      "    \"completion_tokens\": 93,\n",
      "    \"prompt_tokens\": 10,\n",
      "    \"total_tokens\": 103\n",
      "  }\n",
      "}\n"
     ]
    }
   ],
   "source": [
    "question = \"\"\"\n",
    "k-folds cross validation processes entails?\n",
    "\"\"\"\n",
    "ask_question(question)"
   ]
  },
  {
   "cell_type": "code",
   "execution_count": 105,
   "id": "49cd4435-b918-4476-87c7-8749b173b450",
   "metadata": {},
   "outputs": [
    {
     "name": "stdout",
     "output_type": "stream",
     "text": [
      "(CNN)The Palestinian Authority officially became the 123rd member of the International Criminal Court on Wednesday, a step that gives the court jurisdiction over alleged crimes in Palestinian territories. The formal accession was marked with a ceremony at The Hague, in the Netherlands, where the court is based. The Palestinians signed the ICC's founding Rome Statute in January, when they also accepted its jurisdiction over alleged crimes committed \"in the occupied Palestinian territory, including East Jerusalem, since June 13, 2014.\" Later that month, the ICC opened a preliminary examination into the situation in Palestinian territories, paving the way for possible war crimes investigations against Israelis. As members of the court, Palestinians may be subject to counter-charges as well. Israel and the United States, neither of which is an ICC member, opposed the Palestinians' efforts to join the body. But Palestinian Foreign Minister Riad al-Malki, speaking at Wednesday's ceremony, said it was a move toward greater justice. \"As Palestine formally becomes a State Party to the Rome Statute today, the world is also a step closer to ending a long era of impunity and injustice,\" he said, according to an ICC news release. \"Indeed, today brings us closer to our shared goals of justice and peace.\" Judge Kuniko Ozaki, a vice president of the ICC, said acceding to the treaty was just the first step for the Palestinians. \"As the Rome Statute today enters into force for the State of Palestine, Palestine acquires all the rights as well as responsibilities that come with being a State Party to the Statute. These are substantive commitments, which cannot be taken lightly,\" she said. Rights group Human Rights Watch welcomed the development. \"Governments seeking to penalize Palestine for joining the ICC should immediately end their pressure, and countries that support universal acceptance of the court's treaty should speak out to welcome its membership,\" said Balkees Jarrah, international justice counsel for the group. \"What's objectionable is the attempts to undermine international justice, not Palestine's decision to join a treaty to which over 100 countries around the world are members.\" In January, when the preliminary ICC examination was opened, Israeli Prime Minister Benjamin Netanyahu described it as an outrage, saying the court was overstepping its boundaries. The United States also said it \"strongly\" disagreed with the court's decision. \"As we have said repeatedly, we do not believe that Palestine is a state and therefore we do not believe that it is eligible to join the ICC,\" the State Department said in a statement. It urged the warring sides to resolve their differences through direct negotiations. \"We will continue to oppose actions against Israel at the ICC as counterproductive to the cause of peace,\" it said. But the ICC begs to differ with the definition of a state for its purposes and refers to the territories as \"Palestine.\" While a preliminary examination is not a formal investigation, it allows the court to review evidence and determine whether to investigate suspects on both sides. Prosecutor Fatou Bensouda said her office would \"conduct its analysis in full independence and impartiality.\" The war between Israel and Hamas militants in Gaza last summer left more than 2,000 people dead. The inquiry will include alleged war crimes committed since June. The International Criminal Court was set up in 2002 to prosecute genocide, crimes against humanity and war crimes. CNN's Vasco Cotovio, Kareem Khadder and Faith Karimi contributed to this report.\n",
      "\n",
      "Generated:\n",
      "The Palestinian Authority became the 123rd member of the International Criminal Court (ICC) at a ceremony in The Hague on Wednesday, granting the ICC jurisdiction over alleged crimes in Palestinian territories since June 2014. Israel and US both opposed the move, but rights groups welcomed it for bringing \"closer to our shared goals of justice and peace.\" The ICC will review evidence and decide whether to investigate suspects on both sides for war crimes in the war last summer.\n",
      "\n",
      "Reference:\n",
      "Membership gives the ICC jurisdiction over alleged crimes committed in Palestinian territories since last June .\n",
      "Israel and the United States opposed the move, which could open the door to war crimes investigations against Israelis .\n"
     ]
    }
   ],
   "source": [
    "print(cnn_dataset['test']['article'][0])\n",
    "print(\"\\nGenerated:\")\n",
    "print(summarize_with_openai(cnn_dataset['test']['article'][0], 120))\n",
    "print(\"\\nReference:\")\n",
    "print(cnn_dataset['test']['highlights'][0])"
   ]
  },
  {
   "cell_type": "code",
   "execution_count": 110,
   "id": "26c5c5d2-c9f6-435c-b17a-6278bc64a6f2",
   "metadata": {},
   "outputs": [
    {
     "name": "stdout",
     "output_type": "stream",
     "text": [
      "Prison Link Cymru had 1,099 referrals in 2015-16 and said some ex-offenders were living rough for up to a year before finding suitable accommodation.\n",
      "Workers at the charity claim investment in housing would be cheaper than jailing homeless repeat offenders.\n",
      "The Welsh Government said more people than ever were getting help to address housing problems.\n",
      "Changes to the Housing Act in Wales, introduced in 2015, removed the right for prison leavers to be given priority for accommodation.\n",
      "Prison Link Cymru, which helps people find accommodation after their release, said things were generally good for women because issues such as children or domestic violence were now considered.\n",
      "However, the same could not be said for men, the charity said, because issues which often affect them, such as post traumatic stress disorder or drug dependency, were often viewed as less of a priority.\n",
      "Andrew Stevens, who works in Welsh prisons trying to secure housing for prison leavers, said the need for accommodation was \"chronic\".\n",
      "\"There's a desperate need for it, finding suitable accommodation for those leaving prison there is just a lack of it everywhere,\" he said.\n",
      "\"It could take six months to a year, without a lot of help they could be on the streets for six months.\n",
      "\"When you think of the consequences of either being on the street, especially with the cold weather at the moment or you may have a roof over your head, sometimes there is only one choice.\"\n",
      "Mr Stevens believes building more one-bedroom flats could help ease the problem.\n",
      "\"The average price is a hundred pounds a week to keep someone in a rented flat, prison is a lot more than that so I would imagine it would save the public purse quite a few pounds,\" he said.\n",
      "Official figures show 830 one-bedroom properties were built in the year to March 2016, of an overall total of 6,900 new properties in Wales.\n",
      "Marc, 50, who has been in and out of prison for the past 20 years for burglary offences, said he struggled to find accommodation each time he was released.\n",
      "He said he would ask himself: \"Where am I going to stay? Where am I going to live? Have I got somewhere where I can see my daughter.\"\n",
      "\"You're put out among the same sort of people doing the same sort of thing, and it's difficult, it's difficult to get away from it. It's like every man for himself, there's nothing.\"\n",
      "Marc has now found stable accommodation with homeless charity Emmaus and said it had been life changing.\n",
      "\"You feel safe, you got hot food, you've got company of people in similar situations to yourself but all dealing with different issues. It's a constructive, helpful atmosphere,\" he said.\n",
      "Tom Clarke, chief executive of Emmaus South Wales, agreed there was not enough support available.\n",
      "\"We do still see [people] homeless on the streets, so clearly they haven't got accommodation and haven't got provision,\" he said.\n",
      "\"I think the key is connecting people with the services they need. I don't delude myself that Emmaus can offer a one size fits all for everyone, we can't.\n",
      "\"But there must be other opportunities and given suitable encouragement I believe that can and should happen.\"\n",
      "A Welsh Government spokesman said the national pathway for homeless services to children, young people and adults in the secure estate had prevented many people from losing their home whilst serving their prison sentence.\n",
      "It added there were already significant demands for one-bedroom flats across the public and private sector and it was providing 20,000 new affordable homes in the next five years.\n",
      "\n",
      "Generated:\n",
      "Prison Link Cymru helps ex-offenders find housing, but some struggle due to lack of availability. Welsh Government provides 20,000 new affordable homes in next five years.\n",
      "\n",
      "Reference:\n",
      "There is a \"chronic\" need for more housing for prison leavers in Wales, according to a charity.\n"
     ]
    }
   ],
   "source": [
    "print(xsum_dataset['test']['document'][0])\n",
    "print(\"\\nGenerated:\")\n",
    "print(summarize_with_openai(xsum_dataset['test']['document'][0], 30, true))\n",
    "print(\"\\nReference:\")\n",
    "print(xsum_dataset['test']['summary'][0])"
   ]
  },
  {
   "cell_type": "markdown",
   "id": "34fcd6c0-bec5-4485-b836-64175d320a1f",
   "metadata": {},
   "source": [
    "# Run ChatGTP to summarize XSum and CNN/DM test sets"
   ]
  },
  {
   "cell_type": "code",
   "execution_count": 93,
   "id": "b8c5421c-a4e6-4a25-a3c7-9131e5af2273",
   "metadata": {},
   "outputs": [
    {
     "name": "stderr",
     "output_type": "stream",
     "text": [
      "  0%|          | 0/89 [00:00<?, ?it/s]"
     ]
    },
    {
     "name": "stdout",
     "output_type": "stream",
     "text": [
      "This model's maximum context length is 4097 tokens, however you requested 5614 tokens (5598 in your prompt; 16 for the completion). Please reduce your prompt; or completion length.\n"
     ]
    },
    {
     "name": "stderr",
     "output_type": "stream",
     "text": [
      "  7%|▋         | 6/89 [14:35<3:21:32, 145.69s/it]"
     ]
    },
    {
     "name": "stdout",
     "output_type": "stream",
     "text": [
      "This model's maximum context length is 4097 tokens, however you requested 4119 tokens (4097 in your prompt; 22 for the completion). Please reduce your prompt; or completion length.\n"
     ]
    },
    {
     "name": "stderr",
     "output_type": "stream",
     "text": [
      " 42%|████▏     | 37/89 [1:08:50<1:19:25, 91.65s/it]"
     ]
    },
    {
     "name": "stdout",
     "output_type": "stream",
     "text": [
      "Error communicating with OpenAI: ('Connection aborted.', ConnectionResetError(104, 'Connection reset by peer'))\n"
     ]
    },
    {
     "name": "stderr",
     "output_type": "stream",
     "text": [
      " 56%|█████▌    | 50/89 [1:29:01<1:00:19, 92.81s/it]"
     ]
    },
    {
     "name": "stdout",
     "output_type": "stream",
     "text": [
      "This model's maximum context length is 4097 tokens, however you requested 6339 tokens (6329 in your prompt; 10 for the completion). Please reduce your prompt; or completion length.\n"
     ]
    },
    {
     "name": "stderr",
     "output_type": "stream",
     "text": [
      " 75%|███████▌  | 67/89 [1:55:04<33:23, 91.07s/it]  "
     ]
    },
    {
     "name": "stdout",
     "output_type": "stream",
     "text": [
      "Error communicating with OpenAI: ('Connection aborted.', ConnectionResetError(104, 'Connection reset by peer'))\n"
     ]
    },
    {
     "name": "stderr",
     "output_type": "stream",
     "text": [
      " 76%|███████▋  | 68/89 [1:56:33<31:40, 90.51s/it]"
     ]
    },
    {
     "name": "stdout",
     "output_type": "stream",
     "text": [
      "This model's maximum context length is 4097 tokens, however you requested 15312 tokens (15280 in your prompt; 32 for the completion). Please reduce your prompt; or completion length.\n",
      "Error communicating with OpenAI: ('Connection aborted.', ConnectionResetError(104, 'Connection reset by peer'))\n"
     ]
    },
    {
     "name": "stderr",
     "output_type": "stream",
     "text": [
      " 89%|████████▉ | 79/89 [2:13:16<14:51, 89.11s/it]"
     ]
    },
    {
     "name": "stdout",
     "output_type": "stream",
     "text": [
      "This model's maximum context length is 4097 tokens, however you requested 4574 tokens (4533 in your prompt; 41 for the completion). Please reduce your prompt; or completion length.\n"
     ]
    },
    {
     "name": "stderr",
     "output_type": "stream",
     "text": [
      "100%|██████████| 89/89 [2:27:26<00:00, 99.40s/it]\n"
     ]
    },
    {
     "name": "stdout",
     "output_type": "stream",
     "text": [
      "rouge-1: r:0.28, p:0.27 f:0.28\n",
      "rouge-2: r:0.08, p:0.08 f:0.08\n",
      "rouge-l: r:0.21, p:0.21 f:0.21\n",
      "\n",
      "Duration = 2:27:36.396431\n"
     ]
    }
   ],
   "source": [
    "import datetime\n",
    "start = datetime.datetime.utcnow()\n",
    "\n",
    "test_dataset(xsum_dataset, \"test\", [\"document\", \"summary\"])\n",
    "\n",
    "end = datetime.datetime.utcnow()\n",
    "print(\"\\nDuration =\", end-start)"
   ]
  },
  {
   "cell_type": "code",
   "execution_count": 126,
   "id": "dded424e-ef46-4fbd-990f-d32b78757bc8",
   "metadata": {},
   "outputs": [
    {
     "name": "stderr",
     "output_type": "stream",
     "text": [
      "100%|██████████| 1/1 [02:28<00:00, 148.56s/it]"
     ]
    },
    {
     "name": "stdout",
     "output_type": "stream",
     "text": [
      "0 1\n"
     ]
    },
    {
     "name": "stderr",
     "output_type": "stream",
     "text": [
      "2it [04:58, 149.33s/it]                       "
     ]
    },
    {
     "name": "stdout",
     "output_type": "stream",
     "text": [
      "1 1\n"
     ]
    },
    {
     "name": "stderr",
     "output_type": "stream",
     "text": [
      "2it [07:31, 225.56s/it]"
     ]
    },
    {
     "name": "stdout",
     "output_type": "stream",
     "text": [
      "2 1\n"
     ]
    },
    {
     "name": "stderr",
     "output_type": "stream",
     "text": [
      "\n"
     ]
    },
    {
     "name": "stdout",
     "output_type": "stream",
     "text": [
      "rouge-1: r:0.25, p:0.23 f:0.24\n",
      "rouge-2: r:0.06, p:0.06 f:0.06\n",
      "rouge-l: r:0.19, p:0.17 f:0.18\n",
      "\n",
      "Duration = 0:07:31.672131\n"
     ]
    }
   ],
   "source": [
    "import datetime\n",
    "start = datetime.datetime.utcnow()\n",
    "\n",
    "test_dataset(xsum_dataset, \"test\", [\"document\", \"summary\"], 1, True)\n",
    "\n",
    "end = datetime.datetime.utcnow()\n",
    "print(\"\\nDuration =\", end-start)"
   ]
  },
  {
   "cell_type": "code",
   "execution_count": 128,
   "id": "e3d4ff07-8db5-41e7-a7f2-c31d41089c92",
   "metadata": {},
   "outputs": [
    {
     "name": "stderr",
     "output_type": "stream",
     "text": [
      "  0%|          | 0/1 [04:36<?, ?it/s]"
     ]
    },
    {
     "name": "stdout",
     "output_type": "stream",
     "text": [
      "0 1\n"
     ]
    },
    {
     "name": "stderr",
     "output_type": "stream",
     "text": [
      "\n"
     ]
    },
    {
     "name": "stdout",
     "output_type": "stream",
     "text": [
      "rouge-1: r:0.41, p:0.35 f:0.37\n",
      "rouge-2: r:0.15, p:0.13 f:0.14\n",
      "rouge-l: r:0.28, p:0.24 f:0.25\n",
      "\n",
      "Duration = 0:04:36.682141\n"
     ]
    }
   ],
   "source": [
    "import datetime\n",
    "start = datetime.datetime.utcnow()\n",
    "\n",
    "test_dataset(cnn_dataset, \"test\", [\"article\", \"highlights\"], 1)\n",
    "\n",
    "end = datetime.datetime.utcnow()\n",
    "print(\"\\nDuration =\", end-start)"
   ]
  },
  {
   "cell_type": "code",
   "execution_count": 94,
   "id": "bf4f451e-1c7e-4cf4-91f1-2851e8004b0e",
   "metadata": {},
   "outputs": [
    {
     "name": "stderr",
     "output_type": "stream",
     "text": [
      "100%|██████████| 90/90 [4:45:52<00:00, 190.59s/it]  \n"
     ]
    },
    {
     "name": "stdout",
     "output_type": "stream",
     "text": [
      "rouge-1: r:0.42, p:0.41 f:0.41\n",
      "rouge-2: r:0.17, p:0.17 f:0.17\n",
      "rouge-l: r:0.28, p:0.27 f:0.27\n",
      "\n",
      "Duration = 4:46:29.570380\n"
     ]
    }
   ],
   "source": [
    "import datetime\n",
    "start = datetime.datetime.utcnow()\n",
    "\n",
    "test_dataset(cnn_dataset, \"test\", [\"article\", \"highlights\"])\n",
    "\n",
    "end = datetime.datetime.utcnow()\n",
    "print(\"\\nDuration =\", end-start)"
   ]
  },
  {
   "cell_type": "markdown",
   "id": "af7c6ab6-e1b2-4589-84f1-f73e4c6f5703",
   "metadata": {},
   "source": [
    "# Test rouge on random generated strings out of stop words"
   ]
  },
  {
   "cell_type": "code",
   "execution_count": 5,
   "id": "c55b88cf-5a6f-429e-8d6d-4806cfc20da5",
   "metadata": {},
   "outputs": [],
   "source": [
    "def generate_random_sequence(words, text_len=1):\n",
    "    import random\n",
    "    import math\n",
    "    l = len(words)\n",
    "    if text_len < 1:\n",
    "        return ''\n",
    "    txt = words[math.floor(random.random() * l)]\n",
    "    i = 1\n",
    "    while i < text_len:\n",
    "        txt += ' ' + words[math.floor(random.random() * l)]\n",
    "        i += 1\n",
    "    return txt\n",
    "\n",
    "def test_dataset_random(dataset, key1, key2, words):\n",
    "    generated = []\n",
    "    references = []\n",
    "\n",
    "    for x in dataset[key1]:\n",
    "        ref_len, _ = count_text_tokens_default(x[key2])\n",
    "        generated.append(generate_random_sequence(words, ref_len))\n",
    "        references.append(x[key2])\n",
    "    \n",
    "    print_rouge_score(generated, references)"
   ]
  },
  {
   "cell_type": "code",
   "execution_count": 6,
   "id": "c572b430-d98c-498b-babb-943872538b55",
   "metadata": {},
   "outputs": [
    {
     "name": "stdout",
     "output_type": "stream",
     "text": [
      "cnndm dataset:\n",
      "rouge-1: r:0.08, p:0.07 f:0.08\n",
      "rouge-2: r:0.00, p:0.00 f:0.00\n",
      "rouge-l: r:0.08, p:0.07 f:0.08\n"
     ]
    }
   ],
   "source": [
    "print('cnndm dataset:')\n",
    "test_dataset_random(cnn_dataset, 'test', 'highlights', ['of', 'to', 'the'])"
   ]
  },
  {
   "cell_type": "code",
   "execution_count": 7,
   "id": "edb7483a-c38c-46b0-9797-140586fd14be",
   "metadata": {},
   "outputs": [
    {
     "name": "stdout",
     "output_type": "stream",
     "text": [
      "xsum dataset:\n",
      "rouge-1: r:0.10, p:0.09 f:0.09\n",
      "rouge-2: r:0.01, p:0.01 f:0.01\n",
      "rouge-l: r:0.10, p:0.09 f:0.09\n"
     ]
    }
   ],
   "source": [
    "print('xsum dataset:')\n",
    "test_dataset_random(xsum_dataset, 'test', 'summary', ['of', 'to', 'the'])"
   ]
  }
 ],
 "metadata": {
  "kernelspec": {
   "display_name": "Python 3.8 - AzureML",
   "language": "python",
   "name": "python38-azureml"
  },
  "language_info": {
   "codemirror_mode": {
    "name": "ipython",
    "version": 3
   },
   "file_extension": ".py",
   "mimetype": "text/x-python",
   "name": "python",
   "nbconvert_exporter": "python",
   "pygments_lexer": "ipython3",
   "version": "3.8.5"
  },
  "widgets": {
   "application/vnd.jupyter.widget-state+json": {
    "state": {
     "04fbb52ddec14bcaa4b73cecb40fa543": {
      "model_module": "@jupyter-widgets/base",
      "model_module_version": "1.2.0",
      "model_name": "LayoutModel",
      "state": {}
     },
     "085aa670c9424278a8e8fc23d5c0fd6d": {
      "model_module": "@jupyter-widgets/controls",
      "model_module_version": "1.5.0",
      "model_name": "DescriptionStyleModel",
      "state": {
       "description_width": ""
      }
     },
     "0a84e766cf8d483180a4f97300016e80": {
      "model_module": "@jupyter-widgets/controls",
      "model_module_version": "1.5.0",
      "model_name": "FloatProgressModel",
      "state": {
       "bar_style": "success",
       "layout": "IPY_MODEL_ae4a8996b9ec4974ad1d019f761a87d5",
       "max": 3,
       "style": "IPY_MODEL_217a659775704f72b0020c2c6b5bd14e",
       "value": 3
      }
     },
     "0f7bce4022a44434a3f57eccf5a38a1e": {
      "model_module": "@jupyter-widgets/controls",
      "model_module_version": "1.5.0",
      "model_name": "HBoxModel",
      "state": {
       "children": [
        "IPY_MODEL_cc0e1344363d4dc2ac3be5917939ec74",
        "IPY_MODEL_8aa88047567c41229e6ce3500571e207",
        "IPY_MODEL_da879246e7dd48a5b2fb56e6c01f45f7"
       ],
       "layout": "IPY_MODEL_5c17159eb49840dea287fc8b92d2c6b1"
      }
     },
     "0fcef42cf430460093db584ce7b195e1": {
      "model_module": "@jupyter-widgets/base",
      "model_module_version": "1.2.0",
      "model_name": "LayoutModel",
      "state": {}
     },
     "18b1cc6f2d564f9ab9daf0ddd6bee101": {
      "model_module": "@jupyter-widgets/controls",
      "model_module_version": "1.5.0",
      "model_name": "FloatProgressModel",
      "state": {
       "bar_style": "success",
       "layout": "IPY_MODEL_4cf1a045efc34d89871eb2be837066ef",
       "max": 3,
       "style": "IPY_MODEL_bfc11e9fc8a843d0949f3d8b72957740",
       "value": 3
      }
     },
     "1c3c59eddfac4a2f83bf8028f897c3c2": {
      "model_module": "@jupyter-widgets/controls",
      "model_module_version": "1.5.0",
      "model_name": "HTMLModel",
      "state": {
       "layout": "IPY_MODEL_6f44ac2ab51644bbbd1a2d63239721a9",
       "style": "IPY_MODEL_c78e7d7c980a42f9a7114a710f1e309a",
       "value": " 3/3 [00:00&lt;00:00, 124.56it/s]"
      }
     },
     "217a659775704f72b0020c2c6b5bd14e": {
      "model_module": "@jupyter-widgets/controls",
      "model_module_version": "1.5.0",
      "model_name": "ProgressStyleModel",
      "state": {
       "description_width": ""
      }
     },
     "2199166c62ad4464aa420f1f780514f7": {
      "model_module": "@jupyter-widgets/controls",
      "model_module_version": "1.5.0",
      "model_name": "ProgressStyleModel",
      "state": {
       "description_width": ""
      }
     },
     "230a3d8dc2054c25af7fd0f7453a9c43": {
      "model_module": "@jupyter-widgets/base",
      "model_module_version": "1.2.0",
      "model_name": "LayoutModel",
      "state": {}
     },
     "2969c5c327a54c7caee7a227f042b9ed": {
      "model_module": "@jupyter-widgets/controls",
      "model_module_version": "1.5.0",
      "model_name": "HBoxModel",
      "state": {
       "children": [
        "IPY_MODEL_ea989a136e55446395509794a2dad2e4",
        "IPY_MODEL_4c83f27ab1c24ed4a7591d3ebad518df",
        "IPY_MODEL_6ae0e512ccbd4333812122b5f7d6289c"
       ],
       "layout": "IPY_MODEL_ef069955b84b4f3f80a3f36145659ce8"
      }
     },
     "2b42bc79aa114c249e4f085f1369699c": {
      "model_module": "@jupyter-widgets/controls",
      "model_module_version": "1.5.0",
      "model_name": "HBoxModel",
      "state": {
       "children": [
        "IPY_MODEL_53b6142911064fdf908c4fbe236494d8",
        "IPY_MODEL_18b1cc6f2d564f9ab9daf0ddd6bee101",
        "IPY_MODEL_9faa6a5d203442bb85021c6ae5c26e2d"
       ],
       "layout": "IPY_MODEL_8d34eea353f949c0bb64f77975b597e9"
      }
     },
     "4394d81fb9db46fc8d55451469457e81": {
      "model_module": "@jupyter-widgets/base",
      "model_module_version": "1.2.0",
      "model_name": "LayoutModel",
      "state": {}
     },
     "4c83f27ab1c24ed4a7591d3ebad518df": {
      "model_module": "@jupyter-widgets/controls",
      "model_module_version": "1.5.0",
      "model_name": "FloatProgressModel",
      "state": {
       "bar_style": "success",
       "layout": "IPY_MODEL_eb11798fb7d4470c8b8166f797a104a0",
       "max": 3,
       "style": "IPY_MODEL_2199166c62ad4464aa420f1f780514f7",
       "value": 3
      }
     },
     "4cf1a045efc34d89871eb2be837066ef": {
      "model_module": "@jupyter-widgets/base",
      "model_module_version": "1.2.0",
      "model_name": "LayoutModel",
      "state": {}
     },
     "53b6142911064fdf908c4fbe236494d8": {
      "model_module": "@jupyter-widgets/controls",
      "model_module_version": "1.5.0",
      "model_name": "HTMLModel",
      "state": {
       "layout": "IPY_MODEL_bec365896d5e45daa8b017efb9699f1e",
       "style": "IPY_MODEL_df13a711db384125a4c1e0d8b9dda149",
       "value": "100%"
      }
     },
     "593274387a0848d4b613719426f46c72": {
      "model_module": "@jupyter-widgets/controls",
      "model_module_version": "1.5.0",
      "model_name": "DescriptionStyleModel",
      "state": {
       "description_width": ""
      }
     },
     "5c17159eb49840dea287fc8b92d2c6b1": {
      "model_module": "@jupyter-widgets/base",
      "model_module_version": "1.2.0",
      "model_name": "LayoutModel",
      "state": {}
     },
     "6ae0e512ccbd4333812122b5f7d6289c": {
      "model_module": "@jupyter-widgets/controls",
      "model_module_version": "1.5.0",
      "model_name": "HTMLModel",
      "state": {
       "layout": "IPY_MODEL_768506bbb0a2475c8a04a53d2e495f00",
       "style": "IPY_MODEL_92c0a861f63d41779a656c9cbce0b1e0",
       "value": " 3/3 [00:00&lt;00:00, 115.46it/s]"
      }
     },
     "6f44ac2ab51644bbbd1a2d63239721a9": {
      "model_module": "@jupyter-widgets/base",
      "model_module_version": "1.2.0",
      "model_name": "LayoutModel",
      "state": {}
     },
     "768506bbb0a2475c8a04a53d2e495f00": {
      "model_module": "@jupyter-widgets/base",
      "model_module_version": "1.2.0",
      "model_name": "LayoutModel",
      "state": {}
     },
     "7900623179d546e4aef2c43b26de95cf": {
      "model_module": "@jupyter-widgets/controls",
      "model_module_version": "1.5.0",
      "model_name": "DescriptionStyleModel",
      "state": {
       "description_width": ""
      }
     },
     "790d1a4b6cec412eadf1a670b64e014c": {
      "model_module": "@jupyter-widgets/controls",
      "model_module_version": "1.5.0",
      "model_name": "HBoxModel",
      "state": {
       "children": [
        "IPY_MODEL_9e0c6762a29c4e059c885cd701d0fbac",
        "IPY_MODEL_0a84e766cf8d483180a4f97300016e80",
        "IPY_MODEL_1c3c59eddfac4a2f83bf8028f897c3c2"
       ],
       "layout": "IPY_MODEL_0fcef42cf430460093db584ce7b195e1"
      }
     },
     "8aa88047567c41229e6ce3500571e207": {
      "model_module": "@jupyter-widgets/controls",
      "model_module_version": "1.5.0",
      "model_name": "FloatProgressModel",
      "state": {
       "bar_style": "success",
       "layout": "IPY_MODEL_230a3d8dc2054c25af7fd0f7453a9c43",
       "max": 3,
       "style": "IPY_MODEL_a7b3f185ed6443a5b2c2b9e203edbecf",
       "value": 3
      }
     },
     "8d34eea353f949c0bb64f77975b597e9": {
      "model_module": "@jupyter-widgets/base",
      "model_module_version": "1.2.0",
      "model_name": "LayoutModel",
      "state": {}
     },
     "92c0a861f63d41779a656c9cbce0b1e0": {
      "model_module": "@jupyter-widgets/controls",
      "model_module_version": "1.5.0",
      "model_name": "DescriptionStyleModel",
      "state": {
       "description_width": ""
      }
     },
     "9993ef62a8754cbd96f322f4c063bfac": {
      "model_module": "@jupyter-widgets/controls",
      "model_module_version": "1.5.0",
      "model_name": "DescriptionStyleModel",
      "state": {
       "description_width": ""
      }
     },
     "9e0c6762a29c4e059c885cd701d0fbac": {
      "model_module": "@jupyter-widgets/controls",
      "model_module_version": "1.5.0",
      "model_name": "HTMLModel",
      "state": {
       "layout": "IPY_MODEL_4394d81fb9db46fc8d55451469457e81",
       "style": "IPY_MODEL_ca635672e50344b4b2b4e7ae8206177b",
       "value": "100%"
      }
     },
     "9faa6a5d203442bb85021c6ae5c26e2d": {
      "model_module": "@jupyter-widgets/controls",
      "model_module_version": "1.5.0",
      "model_name": "HTMLModel",
      "state": {
       "layout": "IPY_MODEL_e8116085b8b54c9ca7b0b9fd3c24f019",
       "style": "IPY_MODEL_9993ef62a8754cbd96f322f4c063bfac",
       "value": " 3/3 [00:00&lt;00:00, 129.60it/s]"
      }
     },
     "a7b3f185ed6443a5b2c2b9e203edbecf": {
      "model_module": "@jupyter-widgets/controls",
      "model_module_version": "1.5.0",
      "model_name": "ProgressStyleModel",
      "state": {
       "description_width": ""
      }
     },
     "ae1dedcfebd14798a161396aa6065477": {
      "model_module": "@jupyter-widgets/base",
      "model_module_version": "1.2.0",
      "model_name": "LayoutModel",
      "state": {}
     },
     "ae4a8996b9ec4974ad1d019f761a87d5": {
      "model_module": "@jupyter-widgets/base",
      "model_module_version": "1.2.0",
      "model_name": "LayoutModel",
      "state": {}
     },
     "bec365896d5e45daa8b017efb9699f1e": {
      "model_module": "@jupyter-widgets/base",
      "model_module_version": "1.2.0",
      "model_name": "LayoutModel",
      "state": {}
     },
     "bfc11e9fc8a843d0949f3d8b72957740": {
      "model_module": "@jupyter-widgets/controls",
      "model_module_version": "1.5.0",
      "model_name": "ProgressStyleModel",
      "state": {
       "description_width": ""
      }
     },
     "c292b90c0a034cdb9666cc324d459e7c": {
      "model_module": "@jupyter-widgets/base",
      "model_module_version": "1.2.0",
      "model_name": "LayoutModel",
      "state": {}
     },
     "c78e7d7c980a42f9a7114a710f1e309a": {
      "model_module": "@jupyter-widgets/controls",
      "model_module_version": "1.5.0",
      "model_name": "DescriptionStyleModel",
      "state": {
       "description_width": ""
      }
     },
     "ca635672e50344b4b2b4e7ae8206177b": {
      "model_module": "@jupyter-widgets/controls",
      "model_module_version": "1.5.0",
      "model_name": "DescriptionStyleModel",
      "state": {
       "description_width": ""
      }
     },
     "cc0e1344363d4dc2ac3be5917939ec74": {
      "model_module": "@jupyter-widgets/controls",
      "model_module_version": "1.5.0",
      "model_name": "HTMLModel",
      "state": {
       "layout": "IPY_MODEL_c292b90c0a034cdb9666cc324d459e7c",
       "style": "IPY_MODEL_7900623179d546e4aef2c43b26de95cf",
       "value": "100%"
      }
     },
     "da879246e7dd48a5b2fb56e6c01f45f7": {
      "model_module": "@jupyter-widgets/controls",
      "model_module_version": "1.5.0",
      "model_name": "HTMLModel",
      "state": {
       "layout": "IPY_MODEL_ae1dedcfebd14798a161396aa6065477",
       "style": "IPY_MODEL_593274387a0848d4b613719426f46c72",
       "value": " 3/3 [00:00&lt;00:00, 119.27it/s]"
      }
     },
     "df13a711db384125a4c1e0d8b9dda149": {
      "model_module": "@jupyter-widgets/controls",
      "model_module_version": "1.5.0",
      "model_name": "DescriptionStyleModel",
      "state": {
       "description_width": ""
      }
     },
     "e8116085b8b54c9ca7b0b9fd3c24f019": {
      "model_module": "@jupyter-widgets/base",
      "model_module_version": "1.2.0",
      "model_name": "LayoutModel",
      "state": {}
     },
     "ea989a136e55446395509794a2dad2e4": {
      "model_module": "@jupyter-widgets/controls",
      "model_module_version": "1.5.0",
      "model_name": "HTMLModel",
      "state": {
       "layout": "IPY_MODEL_04fbb52ddec14bcaa4b73cecb40fa543",
       "style": "IPY_MODEL_085aa670c9424278a8e8fc23d5c0fd6d",
       "value": "100%"
      }
     },
     "eb11798fb7d4470c8b8166f797a104a0": {
      "model_module": "@jupyter-widgets/base",
      "model_module_version": "1.2.0",
      "model_name": "LayoutModel",
      "state": {}
     },
     "ef069955b84b4f3f80a3f36145659ce8": {
      "model_module": "@jupyter-widgets/base",
      "model_module_version": "1.2.0",
      "model_name": "LayoutModel",
      "state": {}
     }
    },
    "version_major": 2,
    "version_minor": 0
   }
  }
 },
 "nbformat": 4,
 "nbformat_minor": 5
}
